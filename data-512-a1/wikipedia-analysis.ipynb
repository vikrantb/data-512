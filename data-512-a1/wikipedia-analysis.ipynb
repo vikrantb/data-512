{
 "cells": [
  {
   "cell_type": "markdown",
   "metadata": {},
   "source": [
    "# README\n",
    "\n",
    "This readme file contains documentation for combining and processing a dataset related to Wikipedia page traffic and analyzing it.\n",
    "\n",
    "\n",
    "Below are the steps involved\n",
    "## Gather the data\n",
    "We need to collect monthly data from the below\n",
    "There are 5 things here\n",
    "Legacy Pagecounts API\n",
    "1. Desktop data\n",
    "2. Mobile data\n",
    "\n",
    "Pageviews API\n",
    "1. Desktop data\n",
    "2. Mobile web data\n",
    "3. Mobile app traffic data"
   ]
  },
  {
   "cell_type": "markdown",
   "metadata": {},
   "source": [
    "### Imports\n",
    "Before we do any processing, we need to import all required libraries for python. These are available on PyPi repository"
   ]
  },
  {
   "cell_type": "code",
   "execution_count": 115,
   "metadata": {},
   "outputs": [],
   "source": [
    "import json\n",
    "import requests\n",
    "import pandas as pd\n",
    "from datetime import datetime"
   ]
  },
  {
   "cell_type": "markdown",
   "metadata": {},
   "source": [
    "### Constants and common definitions\n",
    "The below code will declare constants like endpoints, headers and define the access points supported by the different endpoints"
   ]
  },
  {
   "cell_type": "code",
   "execution_count": 70,
   "metadata": {},
   "outputs": [],
   "source": [
    "endpoint_legacy = 'https://wikimedia.org/api/rest_v1/metrics/legacy/pagecounts/aggregate/en.wikipedia.org/{access}/monthly/{start}/{end}'\n",
    "endpoint_pageviews = 'https://wikimedia.org/api/rest_v1/metrics/pageviews/aggregate/en.wikipedia.org/{access}/{agent}/monthly/{start}/{end}'\n",
    "headers = {\n",
    "    'User-Agent': 'https://github.com/vikrantb',\n",
    "    'From': 'vikrantb@uw.edu'\n",
    "}\n",
    "\n",
    "legacy_access_points = ['desktop-site', 'mobile-site']\n",
    "page_view_access_points = ['desktop', 'mobile-app', 'mobile-web']"
   ]
  },
  {
   "cell_type": "markdown",
   "metadata": {},
   "source": [
    "### Common helper functions\n",
    "\n",
    "Below are some helper functions that will be used throughout. With an explanation\n",
    "\n",
    "#### api_call\n",
    "This method makes a call to the endpoint provided with the parameters provided. It also has an option to directly extract the items\n",
    "\n",
    "#### get_wiki_df\n",
    "This method returns the pagecount/pageviews information in a dataframe format\n",
    "\n",
    "#### get_from_legacy\n",
    "This method is a wrapper method on top of api_call specifically for legacy endpoint\n",
    "\n",
    "#### get_from_page_views\n",
    "This method is a wrapper method on top of api_call specifically for pageviews endpoint\n"
   ]
  },
  {
   "cell_type": "code",
   "execution_count": 284,
   "metadata": {},
   "outputs": [],
   "source": [
    "def api_call(endpoint,parameters, extract_items=False):\n",
    "    call = requests.get(endpoint.format(**parameters), headers=headers)\n",
    "    response = call.json()\n",
    "    \n",
    "    return response['items'] if extract_items else response\n",
    "\n",
    "def get_from_legacy(access, start, end, save_file=False):\n",
    "    params = {\"project\" : \"en.wikipedia.org\",\n",
    "             \"access\" : access,\n",
    "             \"granularity\" : \"monthly\",\n",
    "             \"start\" : \"{start}0100\".format(start=start),\n",
    "             \"end\" : \"{end}0100\".format(end=end)\n",
    "            }\n",
    "    data = api_call(endpoint=endpoint_legacy, parameters=params)\n",
    "    file_name=\"pagecounts_{access}_{start}-{end}.json\".format(access=access, start=start, end=end)\n",
    "    with open(file_name, 'w') as f:\n",
    "        json.dump(data, f)\n",
    "\n",
    "\n",
    "def get_from_page_views(access, start, end, save_file=False):\n",
    "    params = {\"project\" : \"en.wikipedia.org\",\n",
    "             \"access\" : access,\n",
    "             \"agent\" : \"user\",\n",
    "             \"granularity\" : \"monthly\",\n",
    "             \"start\" : \"{start}0100\".format(start=start),\n",
    "             \"end\" : \"{end}0100\".format(end=end)\n",
    "            }\n",
    "    data = api_call(endpoint=endpoint_pageviews, parameters=params)\n",
    "    file_name=\"pageviews_{access}_{start}-{end}.json\".format(access=access, start=start, end=end)\n",
    "    with open(file_name, 'w') as f:\n",
    "        json.dump(data, f)\n",
    "\n",
    "def get_wiki_df(file_path):\n",
    "    wiki_json = ''\n",
    "    with open(file_path) as f:\n",
    "        wiki_json = str(json.load(f)['items']).replace(\"\\'\", \"\\\"\")\n",
    "    df = pd.read_json(wiki_json, orient='records', convert_dates=False)\n",
    "    df['timestamp'] = df['timestamp'].apply(str)\n",
    "    df['year'] = df['timestamp'].apply(lambda x: x[:4])\n",
    "    df['month'] = df['timestamp'].apply(lambda x: x[4:6])\n",
    "    df['num_views'] = df['views'] if 'views' in df.columns else df['count']\n",
    "    return df[['year', 'month', 'num_views']]\n"
   ]
  },
  {
   "cell_type": "markdown",
   "metadata": {},
   "source": [
    "## Step 1: Gathering the data"
   ]
  },
  {
   "cell_type": "markdown",
   "metadata": {},
   "source": [
    "In this step we will gather the wikipedia pagecount data per month level.\n",
    "As noted below, the data is available in legacy endpoint from January 2008 to July 2016\n",
    "As noted below, the data is available in pageviews endpoint from July 2015 2008 to September 2020.\n",
    "\n",
    "There is an overlap for data from July 2015 to July 2016\n",
    "\n",
    "After execution of the below step, there will be 5 json files created as below\n",
    "\n",
    "- pagecounts_desktop-site_200801-201607.json - desktop site information from legacy api from January 2008 to July 2016\n",
    "- pagecounts_mobile-site_200801-201607.json - mobile site information from legacy api from January 2008 to July 2016\n",
    "- pageviews_desktop_201507-202009.json - desktop information from pageviews api from July 2015 to September 2020\n",
    "- pageviews_mobile-app_201507-202009.json - mobile app information from pageviews api from July 2015 to September 2020\n",
    "- pageviews_mobile-web_201507-202009.json - mobile web information from pageviews api from July 2015 to September 2020"
   ]
  },
  {
   "cell_type": "code",
   "execution_count": 285,
   "metadata": {},
   "outputs": [],
   "source": [
    "legacy_start_date='200801'\n",
    "legacy_end_date='201607'\n",
    "for access_type in legacy_access_points:\n",
    "    get_from_legacy(access=access_type, start=legacy_start_date,end=legacy_end_date, save_file=True)\n",
    "\n",
    "legacy_start_date='201507'\n",
    "legacy_end_date='202009'\n",
    "for access_type in page_view_access_points:\n",
    "    get_from_page_views(access=access_type, start=legacy_start_date,end=legacy_end_date, save_file=True)"
   ]
  },
  {
   "cell_type": "code",
   "execution_count": 282,
   "metadata": {},
   "outputs": [],
   "source": []
  },
  {
   "cell_type": "code",
   "execution_count": null,
   "metadata": {},
   "outputs": [],
   "source": []
  },
  {
   "cell_type": "markdown",
   "metadata": {},
   "source": [
    "## Step 2: Processing the data\n",
    "The objective of this step is to combine data from all the json files collected in the gathering step into a single csv file upon which we will run analysis.\n",
    "\n",
    "For the pageviews api, we will sum the counts from mobile-app and mobile-web to create a single value for mobile traffic.\n",
    "\n",
    "For all the data, we will be only using the `YYYYMM` part of the timestamp and ignoring the `DDHH` part"
   ]
  },
  {
   "cell_type": "code",
   "execution_count": 288,
   "metadata": {},
   "outputs": [],
   "source": [
    "pagecounts_desktop_fp = 'pagecounts_desktop-site_200801-201607.json'\n",
    "pagecounts_mobile_fp = 'pagecounts_mobile-site_200801-201607.json'\n",
    "pageviews_desktop_fp = 'pageviews_desktop_201507-202009.json'\n",
    "pageviews_mobile_app_fp = 'pageviews_mobile-app_201507-202009.json'\n",
    "pageviews_mobile_web_fp = 'pageviews_mobile-web_201507-202009.json'\n",
    "\n",
    "pagecounts_desktop_df = get_wiki_df(pagecounts_desktop_fp)\n",
    "pagecounts_mobile_df = get_wiki_df(pagecounts_mobile_fp)\n",
    "pageviews_desktop_df = get_wiki_df(pageviews_desktop_fp)\n",
    "pageviews_mobile_app_df = get_wiki_df(pageviews_mobile_app_fp)\n",
    "pageviews_mobile_web_df = get_wiki_df(pageviews_mobile_web_fp)"
   ]
  },
  {
   "cell_type": "code",
   "execution_count": null,
   "metadata": {},
   "outputs": [],
   "source": []
  },
  {
   "cell_type": "code",
   "execution_count": 289,
   "metadata": {},
   "outputs": [],
   "source": [
    "pageviews_mobile_df = pd.concat([pageviews_mobile_app_df,pageviews_mobile_web_df])\n",
    "pageviews_mobile_df = pageviews_mobile_df.groupby(['year', 'month']).sum().reset_index()\n",
    "pagecount_all_df = pd.concat([pagecounts_desktop_df, pagecounts_mobile_df])\n",
    "pagecount_all_df = pagecount_all_df.groupby(['year', 'month']).sum().reset_index()\n",
    "\n",
    "pageview_all_df = pd.concat([pageviews_desktop_df, pageviews_mobile_df])\n",
    "pageview_all_df = pageview_all_df.groupby(['year', 'month']).sum().reset_index()"
   ]
  },
  {
   "cell_type": "code",
   "execution_count": null,
   "metadata": {},
   "outputs": [],
   "source": []
  },
  {
   "cell_type": "code",
   "execution_count": 295,
   "metadata": {},
   "outputs": [],
   "source": [
    "all_of_all_df = pd.concat([pagecount_all_df, pageview_all_df])[['year', 'month']]\n"
   ]
  },
  {
   "cell_type": "code",
   "execution_count": 296,
   "metadata": {},
   "outputs": [
    {
     "data": {
      "text/html": [
       "<div>\n",
       "<style scoped>\n",
       "    .dataframe tbody tr th:only-of-type {\n",
       "        vertical-align: middle;\n",
       "    }\n",
       "\n",
       "    .dataframe tbody tr th {\n",
       "        vertical-align: top;\n",
       "    }\n",
       "\n",
       "    .dataframe thead th {\n",
       "        text-align: right;\n",
       "    }\n",
       "</style>\n",
       "<table border=\"1\" class=\"dataframe\">\n",
       "  <thead>\n",
       "    <tr style=\"text-align: right;\">\n",
       "      <th></th>\n",
       "      <th>year</th>\n",
       "      <th>month</th>\n",
       "    </tr>\n",
       "  </thead>\n",
       "  <tbody>\n",
       "    <tr>\n",
       "      <th>0</th>\n",
       "      <td>2008</td>\n",
       "      <td>01</td>\n",
       "    </tr>\n",
       "    <tr>\n",
       "      <th>1</th>\n",
       "      <td>2008</td>\n",
       "      <td>02</td>\n",
       "    </tr>\n",
       "    <tr>\n",
       "      <th>2</th>\n",
       "      <td>2008</td>\n",
       "      <td>03</td>\n",
       "    </tr>\n",
       "  </tbody>\n",
       "</table>\n",
       "</div>"
      ],
      "text/plain": [
       "   year month\n",
       "0  2008    01\n",
       "1  2008    02\n",
       "2  2008    03"
      ]
     },
     "execution_count": 296,
     "metadata": {},
     "output_type": "execute_result"
    }
   ],
   "source": [
    "all_of_all_df.head(3)"
   ]
  },
  {
   "cell_type": "code",
   "execution_count": 299,
   "metadata": {},
   "outputs": [
    {
     "data": {
      "text/html": [
       "<div>\n",
       "<style scoped>\n",
       "    .dataframe tbody tr th:only-of-type {\n",
       "        vertical-align: middle;\n",
       "    }\n",
       "\n",
       "    .dataframe tbody tr th {\n",
       "        vertical-align: top;\n",
       "    }\n",
       "\n",
       "    .dataframe thead th {\n",
       "        text-align: right;\n",
       "    }\n",
       "</style>\n",
       "<table border=\"1\" class=\"dataframe\">\n",
       "  <thead>\n",
       "    <tr style=\"text-align: right;\">\n",
       "      <th></th>\n",
       "      <th>year</th>\n",
       "      <th>month</th>\n",
       "    </tr>\n",
       "  </thead>\n",
       "  <tbody>\n",
       "    <tr>\n",
       "      <th>0</th>\n",
       "      <td>2008</td>\n",
       "      <td>01</td>\n",
       "    </tr>\n",
       "    <tr>\n",
       "      <th>1</th>\n",
       "      <td>2008</td>\n",
       "      <td>02</td>\n",
       "    </tr>\n",
       "    <tr>\n",
       "      <th>2</th>\n",
       "      <td>2008</td>\n",
       "      <td>03</td>\n",
       "    </tr>\n",
       "    <tr>\n",
       "      <th>3</th>\n",
       "      <td>2008</td>\n",
       "      <td>04</td>\n",
       "    </tr>\n",
       "    <tr>\n",
       "      <th>4</th>\n",
       "      <td>2008</td>\n",
       "      <td>05</td>\n",
       "    </tr>\n",
       "    <tr>\n",
       "      <th>...</th>\n",
       "      <td>...</td>\n",
       "      <td>...</td>\n",
       "    </tr>\n",
       "    <tr>\n",
       "      <th>147</th>\n",
       "      <td>2020</td>\n",
       "      <td>04</td>\n",
       "    </tr>\n",
       "    <tr>\n",
       "      <th>148</th>\n",
       "      <td>2020</td>\n",
       "      <td>05</td>\n",
       "    </tr>\n",
       "    <tr>\n",
       "      <th>149</th>\n",
       "      <td>2020</td>\n",
       "      <td>06</td>\n",
       "    </tr>\n",
       "    <tr>\n",
       "      <th>150</th>\n",
       "      <td>2020</td>\n",
       "      <td>07</td>\n",
       "    </tr>\n",
       "    <tr>\n",
       "      <th>151</th>\n",
       "      <td>2020</td>\n",
       "      <td>08</td>\n",
       "    </tr>\n",
       "  </tbody>\n",
       "</table>\n",
       "<p>152 rows × 2 columns</p>\n",
       "</div>"
      ],
      "text/plain": [
       "     year month\n",
       "0    2008    01\n",
       "1    2008    02\n",
       "2    2008    03\n",
       "3    2008    04\n",
       "4    2008    05\n",
       "..    ...   ...\n",
       "147  2020    04\n",
       "148  2020    05\n",
       "149  2020    06\n",
       "150  2020    07\n",
       "151  2020    08\n",
       "\n",
       "[152 rows x 2 columns]"
      ]
     },
     "execution_count": 299,
     "metadata": {},
     "output_type": "execute_result"
    }
   ],
   "source": [
    "all_of_all_df.groupby(['year', 'month']).sum().reset_index()"
   ]
  },
  {
   "cell_type": "code",
   "execution_count": null,
   "metadata": {},
   "outputs": [],
   "source": []
  },
  {
   "cell_type": "code",
   "execution_count": null,
   "metadata": {},
   "outputs": [],
   "source": []
  },
  {
   "cell_type": "code",
   "execution_count": null,
   "metadata": {},
   "outputs": [],
   "source": []
  }
 ],
 "metadata": {
  "kernelspec": {
   "display_name": "Python 3",
   "language": "python",
   "name": "python3"
  },
  "language_info": {
   "codemirror_mode": {
    "name": "ipython",
    "version": 3
   },
   "file_extension": ".py",
   "mimetype": "text/x-python",
   "name": "python",
   "nbconvert_exporter": "python",
   "pygments_lexer": "ipython3",
   "version": "3.8.5"
  }
 },
 "nbformat": 4,
 "nbformat_minor": 4
}
